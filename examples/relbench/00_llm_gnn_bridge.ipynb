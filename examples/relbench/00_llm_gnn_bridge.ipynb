{
 "cells": [
  {
   "cell_type": "markdown",
   "metadata": {},
   "source": [
    "# RelBench GNN+LLM Bridge Demo\n",
    "\n",
    "[![Open In Colab](https://colab.research.google.com/assets/colab-badge.svg)](https://colab.research.google.com/github/AJamal27891/pytorch_geometric/blob/feature/gnn-llm-data-warehouse-lineage-issue-9839/examples/relbench/00_llm_gnn_bridge.ipynb)\n",
    "\n",
    "This notebook demonstrates RelBench integration with PyTorch Geometric."
   ]
  },
  {
   "cell_type": "code",
   "execution_count": null,
   "metadata": {},
   "outputs": [],
   "source": [
    "from torch_geometric.datasets.relbench import create_relbench_hetero_data\n",
    "\n",
    "# Load RelBench dataset\n",
    "hetero_data = create_relbench_hetero_data('rel-trial', sample_size=50)\n",
    "print(f\"Created HeteroData with {len(hetero_data.node_types)} node types\")"
   ]
  }
 ],
 "metadata": {
  "kernelspec": {
   "display_name": "Python 3",
   "language": "python",
   "name": "python3"
  }
 },
 "nbformat": 4,
 "nbformat_minor": 4
}
