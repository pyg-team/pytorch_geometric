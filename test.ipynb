{
 "cells": [
  {
   "cell_type": "code",
   "execution_count": 2,
   "metadata": {},
   "outputs": [],
   "source": [
    "import numpy as np\n",
    "import networkx as nx\n",
    "from sklearn.cluster import SpectralClustering\n",
    "from torch_geometric.datasets import GNNBenchmarkDataset\n",
    "from torch_geometric.utils import to_dense_adj\n",
    "from torch_geometric.utils import to_networkx"
   ]
  },
  {
   "cell_type": "code",
   "execution_count": 3,
   "metadata": {},
   "outputs": [
    {
     "name": "stderr",
     "output_type": "stream",
     "text": [
      "Downloading https://www.dropbox.com/s/rnbkp5ubgk82ocu/CSL.zip?dl=1\n"
     ]
    },
    {
     "name": "stdout",
     "output_type": "stream",
     "text": [
      "Dataset: CSL(150):\n",
      "======================\n",
      "Number of graphs: 150\n",
      "Number of features: 0\n",
      "Number of classes: 10\n",
      "Data(edge_index=[2, 164], y=[1], num_nodes=41)\n"
     ]
    },
    {
     "name": "stderr",
     "output_type": "stream",
     "text": [
      "Extracting tmp/gnn_benchmark/CSL/raw/CSL.zip\n",
      "Processing...\n",
      "Done!\n"
     ]
    }
   ],
   "source": [
    "dataset = GNNBenchmarkDataset(root='tmp/gnn_benchmark', name='CSL')\n",
    "\n",
    "print(f'Dataset: {dataset}:')\n",
    "print('======================')\n",
    "print(f'Number of graphs: {len(dataset)}')\n",
    "print(f'Number of features: {dataset.num_features}')\n",
    "print(f'Number of classes: {dataset.num_classes}')\n",
    "\n",
    "data = dataset[0]\n",
    "print(data)"
   ]
  },
  {
   "cell_type": "markdown",
   "metadata": {},
   "source": [
    "### Very basic generation of a graphon\n",
    "\n",
    "This is much simpler than the method described in the paper, only here as a sorta placeholder/demo."
   ]
  },
  {
   "cell_type": "code",
   "execution_count": null,
   "metadata": {},
   "outputs": [],
   "source": [
    "G = to_networkx(data)"
   ]
  },
  {
   "cell_type": "code",
   "execution_count": 70,
   "metadata": {},
   "outputs": [
    {
     "data": {
      "text/plain": [
       "array([[0., 1., 1., ..., 0., 1., 1.],\n",
       "       [1., 0., 1., ..., 0., 0., 1.],\n",
       "       [1., 1., 0., ..., 0., 0., 0.],\n",
       "       ...,\n",
       "       [0., 0., 0., ..., 0., 1., 1.],\n",
       "       [1., 0., 0., ..., 1., 0., 1.],\n",
       "       [1., 1., 0., ..., 1., 1., 0.]])"
      ]
     },
     "execution_count": 70,
     "metadata": {},
     "output_type": "execute_result"
    }
   ],
   "source": [
    "# adjaency_matrix = to_dense_adj(data.edge_index).numpy().squeeze()\n",
    "adjaency_matrix = nx.to_numpy_array(G)\n",
    "adjaency_matrix"
   ]
  },
  {
   "cell_type": "code",
   "execution_count": 71,
   "metadata": {},
   "outputs": [],
   "source": [
    "k = 10\n",
    "clustering = SpectralClustering(n_clusters=k, affinity='precomputed').fit(adjaency_matrix)\n",
    "labels = clustering.labels_"
   ]
  },
  {
   "cell_type": "code",
   "execution_count": 73,
   "metadata": {},
   "outputs": [],
   "source": [
    "graphon = np.zeros((k, k))\n",
    "for i in range(k):\n",
    "    for j in range(k):\n",
    "        nodes_i = np.where(labels == i)[0]\n",
    "        nodes_j = np.where(labels == j)[0]\n",
    "        # print(nodes_i, nodes_j)\n",
    "        # raise ValueError('TODO: implement this')\n",
    "        subgraph = G.subgraph(nodes_i.tolist() + nodes_j.tolist())\n",
    "        graphon[i, j] = nx.density(subgraph)"
   ]
  },
  {
   "cell_type": "code",
   "execution_count": null,
   "metadata": {},
   "outputs": [],
   "source": []
  },
  {
   "cell_type": "code",
   "execution_count": 76,
   "metadata": {},
   "outputs": [],
   "source": [
    "import torch_geometric\n",
    "from torch_geometric.data import Batch, Data\n",
    "from torch_geometric.data.collate import collate\n",
    "from torch_geometric.data.data import BaseData\n",
    "from torch_geometric.data.dataset import Dataset, IndexType\n",
    "from torch_geometric.data.separate import separate\n",
    "from torch_geometric.io import fs\n",
    "\n",
    "class GMixupDataset():\n",
    "    r\"\"\"A wrapper class around a dataset that applies G-Mixup data augmentation to its base dataset.\n",
    "\n",
    "    Args:\n",
    "        base_dataset (Dataset): The dataset to apply G-Mixup to.\n",
    "        TODO\n",
    "    \"\"\"\n",
    "\n",
    "    def __init__(\n",
    "        self,\n",
    "        base_dataset: Dataset,\n",
    "    ) -> None:\n",
    "        self.base_dataset = base_dataset\n",
    "        \n",
    "        self.generate_graphons()\n",
    "        \n",
    "    def generate_graphons(self) -> None:\n",
    "        self.graphs_by_class = [np.empty(0, dtype=int) for _ in range(self.base_dataset.num_classes)]\n",
    "        \n",
    "        # sort graphs by class\n",
    "        for i, data in enumerate(self.base_dataset):\n",
    "            label = data.y.item()\n",
    "            self.graphs_by_class[label] = np.append(self.graphs_by_class[label], i)\n",
    "            \n",
    "        # for i in range(self.base_dataset.num_classes):\n",
    "        #     print(self.graphs_by_class[i])\n",
    "            \n",
    "        # self.average_node_count = int(np.mean([data.num_nodes for data in self.base_dataset]))\n",
    "        self.average_node_count = 20\n",
    "        # print(self.average_node_count)\n",
    "        \n",
    "        self.graphons = np.zeros((self.base_dataset.num_classes, self.average_node_count, self.average_node_count))\n",
    "        for i in range(self.base_dataset.num_classes):\n",
    "            self.graphons[i] = self.generate_graphon(i)\n",
    "        \n",
    "        # print(self.graphons)\n",
    "        return None\n",
    "    \n",
    "    def generate_graphon(self, class_idx: int) -> np.ndarray:\n",
    "        r\"\"\"This is much simpler than the method described in the paper, only here as a sorta placeholder/demo.\n",
    "        \"\"\"\n",
    "        # print(class_idx)\n",
    "        # print(self.graphs_by_class[class_idx])\n",
    "        # print()\n",
    "        final_graphon = np.zeros((self.average_node_count, self.average_node_count))\n",
    "        \n",
    "        for graph_index in self.graphs_by_class[class_idx]:\n",
    "            data = self.base_dataset[graph_index]\n",
    "            G = to_networkx(data)\n",
    "            adjaency_matrix = nx.to_numpy_array(G)\n",
    "            \n",
    "            clustering = SpectralClustering(n_clusters=self.average_node_count, affinity='precomputed').fit(adjaency_matrix)\n",
    "            labels = clustering.labels_\n",
    "\n",
    "            graphon = np.zeros((self.average_node_count, self.average_node_count))\n",
    "            for i in range(self.average_node_count):\n",
    "                for j in range(self.average_node_count):\n",
    "                    nodes_i = np.where(labels == i)[0]\n",
    "                    nodes_j = np.where(labels == j)[0]\n",
    "                    subgraph = G.subgraph(nodes_i.tolist() + nodes_j.tolist())\n",
    "                    graphon[i, j] = nx.density(subgraph)\n",
    "                    \n",
    "            final_graphon += graphon\n",
    "            # print(graphon)\n",
    "        \n",
    "        final_graphon /= len(self.graphs_by_class[class_idx])\n",
    "        return final_graphon\n",
    "\n",
    "    # todo: check how IndexType works\n",
    "    def generate_graphs(self, idx_1: int, idx_2: int, mixing_param: float) -> 'Dataset':\n",
    "        r\"\"\"Takes in a batch of graph label pairs and a mixing parameter λ, and returns the new synthetic graph(s) generated using G-Mixup\n",
    "        \"\"\"\n",
    "        graphon1 = self.graphons[idx_1]\n",
    "        graphon2 = self.graphons[idx_2]\n",
    "        mixed_graphon = mixing_param * graphon1 + (1 - mixing_param) * graphon2\n",
    "        \n",
    "        print(mixed_graphon)\n",
    "        # TODO: generate a graph from the graphon\n",
    "        \n",
    "        return None\n",
    "    \n",
    "    def __getattr__(self, name: str):\n",
    "        if name in self.__dict__:\n",
    "            return getattr(self, name)\n",
    "        else:\n",
    "            return getattr(self.base_dataset, name)"
   ]
  },
  {
   "cell_type": "code",
   "execution_count": 77,
   "metadata": {},
   "outputs": [],
   "source": [
    "gmixup_dataset = GMixupDataset(dataset)\n"
   ]
  },
  {
   "cell_type": "code",
   "execution_count": 79,
   "metadata": {},
   "outputs": [
    {
     "name": "stdout",
     "output_type": "stream",
     "text": [
      "[[0.73333333 0.31666667 0.32555556 0.33888889 0.35666667 0.31555556\n",
      "  0.35222222 0.37       0.33555556 0.36777778 0.36333333 0.32666667\n",
      "  0.38       0.35555556 0.36111111 0.36666667 0.34       0.41111111\n",
      "  0.39111111 0.38333333]\n",
      " [0.31666667 0.76111111 0.33888889 0.33333333 0.35333333 0.35825397\n",
      "  0.34       0.34333333 0.34333333 0.38555556 0.41888889 0.35111111\n",
      "  0.35       0.37650794 0.43333333 0.41555556 0.36222222 0.39222222\n",
      "  0.37555556 0.37666667]\n",
      " [0.32555556 0.33888889 0.81111111 0.35444444 0.34111111 0.37333333\n",
      "  0.34777778 0.33       0.39111111 0.36555556 0.36       0.38111111\n",
      "  0.44333333 0.36333333 0.38888889 0.35777778 0.38888889 0.34777778\n",
      "  0.43777778 0.35444444]\n",
      " [0.33888889 0.33333333 0.35444444 0.74444444 0.34       0.34111111\n",
      "  0.33777778 0.36       0.37333333 0.34333333 0.36222222 0.36111111\n",
      "  0.38444444 0.37444444 0.37111111 0.36444444 0.36444444 0.41222222\n",
      "  0.41333333 0.33666667]\n",
      " [0.35666667 0.35333333 0.34111111 0.34       0.8        0.34444444\n",
      "  0.36       0.35555556 0.33444444 0.36888889 0.35555556 0.34555556\n",
      "  0.36222222 0.41666667 0.35333333 0.39333333 0.40444444 0.36777778\n",
      "  0.35222222 0.41111111]\n",
      " [0.31555556 0.35825397 0.37333333 0.34111111 0.34444444 0.77777778\n",
      "  0.33666667 0.33       0.35111111 0.32444444 0.38888889 0.35222222\n",
      "  0.36222222 0.39555556 0.34222222 0.34666667 0.45777778 0.36\n",
      "  0.41       0.35555556]\n",
      " [0.35222222 0.34       0.34777778 0.33777778 0.36       0.33666667\n",
      "  0.58888889 0.38285714 0.33222222 0.34444444 0.33666667 0.41222222\n",
      "  0.35444444 0.35       0.37555556 0.34777778 0.37       0.37444444\n",
      "  0.32       0.37777778]\n",
      " [0.37       0.34333333 0.33       0.36       0.35555556 0.33\n",
      "  0.38285714 0.77777778 0.33444444 0.31507937 0.35555556 0.37\n",
      "  0.31888889 0.37444444 0.38666667 0.38507937 0.38       0.43111111\n",
      "  0.34777778 0.44777778]\n",
      " [0.33555556 0.34333333 0.39111111 0.37333333 0.33444444 0.35111111\n",
      "  0.33222222 0.33444444 0.6        0.33222222 0.32555556 0.39222222\n",
      "  0.4        0.34333333 0.40555556 0.35777778 0.37444444 0.34444444\n",
      "  0.34333333 0.35555556]\n",
      " [0.36777778 0.38555556 0.36555556 0.34333333 0.36888889 0.32444444\n",
      "  0.34444444 0.31507937 0.33222222 0.67777778 0.35       0.37888889\n",
      "  0.33       0.38       0.35777778 0.36666667 0.36555556 0.44555556\n",
      "  0.37444444 0.38      ]\n",
      " [0.36333333 0.41888889 0.36       0.36222222 0.35555556 0.38888889\n",
      "  0.33666667 0.35555556 0.32555556 0.35       0.71111111 0.30888889\n",
      "  0.35777778 0.37777778 0.40555556 0.37444444 0.35666667 0.33222222\n",
      "  0.34555556 0.38      ]\n",
      " [0.32666667 0.35111111 0.38111111 0.36111111 0.34555556 0.35222222\n",
      "  0.41222222 0.37       0.39222222 0.37888889 0.30888889 0.65555556\n",
      "  0.38222222 0.33222222 0.34222222 0.33444444 0.34444444 0.35444444\n",
      "  0.38       0.35888889]\n",
      " [0.38       0.35       0.44333333 0.38444444 0.36222222 0.36222222\n",
      "  0.35444444 0.31888889 0.4        0.33       0.35777778 0.38222222\n",
      "  0.74444444 0.35666667 0.34888889 0.34666667 0.32555556 0.38777778\n",
      "  0.4        0.35111111]\n",
      " [0.35555556 0.37650794 0.36333333 0.37444444 0.41666667 0.39555556\n",
      "  0.35       0.37444444 0.34333333 0.38       0.37777778 0.33222222\n",
      "  0.35666667 0.83333333 0.33       0.32888889 0.34       0.33111111\n",
      "  0.39222222 0.38111111]\n",
      " [0.36111111 0.43333333 0.38888889 0.37111111 0.35333333 0.34222222\n",
      "  0.37555556 0.38666667 0.40555556 0.35777778 0.40555556 0.34222222\n",
      "  0.34888889 0.33       0.72222222 0.36555556 0.37111111 0.30111111\n",
      "  0.34666667 0.35666667]\n",
      " [0.36666667 0.41555556 0.35777778 0.36444444 0.39333333 0.34666667\n",
      "  0.34777778 0.38507937 0.35777778 0.36666667 0.37444444 0.33444444\n",
      "  0.34666667 0.32888889 0.36555556 0.7        0.35777778 0.35222222\n",
      "  0.38333333 0.36444444]\n",
      " [0.34       0.36222222 0.38888889 0.36444444 0.40444444 0.45777778\n",
      "  0.37       0.38       0.37444444 0.36555556 0.35666667 0.34444444\n",
      "  0.32555556 0.34       0.37111111 0.35777778 0.66666667 0.34111111\n",
      "  0.36666667 0.37777778]\n",
      " [0.41111111 0.39222222 0.34777778 0.41222222 0.36777778 0.36\n",
      "  0.37444444 0.43111111 0.34444444 0.44555556 0.33222222 0.35444444\n",
      "  0.38777778 0.33111111 0.30111111 0.35222222 0.34111111 0.66666667\n",
      "  0.30444444 0.36444444]\n",
      " [0.39111111 0.37555556 0.43777778 0.41333333 0.35222222 0.41\n",
      "  0.32       0.34777778 0.34333333 0.37444444 0.34555556 0.38\n",
      "  0.4        0.39222222 0.34666667 0.38333333 0.36666667 0.30444444\n",
      "  0.6        0.3       ]\n",
      " [0.38333333 0.37666667 0.35444444 0.33666667 0.41111111 0.35555556\n",
      "  0.37777778 0.44777778 0.35555556 0.38       0.38       0.35888889\n",
      "  0.35111111 0.38111111 0.35666667 0.36444444 0.37777778 0.36444444\n",
      "  0.3        0.6       ]]\n"
     ]
    }
   ],
   "source": [
    "# gmixup_dataset.graphons.shape\n",
    "gmixup_dataset.generate_graphs(0, 1, 0.5)"
   ]
  },
  {
   "cell_type": "code",
   "execution_count": null,
   "metadata": {},
   "outputs": [],
   "source": []
  }
 ],
 "metadata": {
  "kernelspec": {
   "display_name": "stanford-cs224w",
   "language": "python",
   "name": "python3"
  },
  "language_info": {
   "codemirror_mode": {
    "name": "ipython",
    "version": 3
   },
   "file_extension": ".py",
   "mimetype": "text/x-python",
   "name": "python",
   "nbconvert_exporter": "python",
   "pygments_lexer": "ipython3",
   "version": "3.12.5"
  }
 },
 "nbformat": 4,
 "nbformat_minor": 2
}
